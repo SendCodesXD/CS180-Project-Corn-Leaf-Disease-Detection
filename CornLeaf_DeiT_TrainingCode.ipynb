{
  "nbformat": 4,
  "nbformat_minor": 0,
  "metadata": {
    "colab": {
      "provenance": [],
      "machine_shape": "hm",
      "gpuType": "A100"
    },
    "kernelspec": {
      "name": "python3",
      "display_name": "Python 3"
    },
    "language_info": {
      "name": "python"
    },
    "accelerator": "GPU",
    "widgets": {
      "application/vnd.jupyter.widget-state+json": {
        "853c0d993acf490190cb4bd044e0ae65": {
          "model_module": "@jupyter-widgets/controls",
          "model_name": "HBoxModel",
          "model_module_version": "1.5.0",
          "state": {
            "_dom_classes": [],
            "_model_module": "@jupyter-widgets/controls",
            "_model_module_version": "1.5.0",
            "_model_name": "HBoxModel",
            "_view_count": null,
            "_view_module": "@jupyter-widgets/controls",
            "_view_module_version": "1.5.0",
            "_view_name": "HBoxView",
            "box_style": "",
            "children": [
              "IPY_MODEL_34fee04a6a664333b6b93dd740358835",
              "IPY_MODEL_07353cb833f04e20bc2afa200ce11453",
              "IPY_MODEL_6794da46c1e24f528b8189eb7296480a"
            ],
            "layout": "IPY_MODEL_e14007abac694b29bf4a8bd0af4bfb59"
          }
        },
        "34fee04a6a664333b6b93dd740358835": {
          "model_module": "@jupyter-widgets/controls",
          "model_name": "HTMLModel",
          "model_module_version": "1.5.0",
          "state": {
            "_dom_classes": [],
            "_model_module": "@jupyter-widgets/controls",
            "_model_module_version": "1.5.0",
            "_model_name": "HTMLModel",
            "_view_count": null,
            "_view_module": "@jupyter-widgets/controls",
            "_view_module_version": "1.5.0",
            "_view_name": "HTMLView",
            "description": "",
            "description_tooltip": null,
            "layout": "IPY_MODEL_de1202cad8f1466cae3b42de936654f9",
            "placeholder": "​",
            "style": "IPY_MODEL_55900947e1634504a18c953efeeff5b6",
            "value": "model.safetensors: 100%"
          }
        },
        "07353cb833f04e20bc2afa200ce11453": {
          "model_module": "@jupyter-widgets/controls",
          "model_name": "FloatProgressModel",
          "model_module_version": "1.5.0",
          "state": {
            "_dom_classes": [],
            "_model_module": "@jupyter-widgets/controls",
            "_model_module_version": "1.5.0",
            "_model_name": "FloatProgressModel",
            "_view_count": null,
            "_view_module": "@jupyter-widgets/controls",
            "_view_module_version": "1.5.0",
            "_view_name": "ProgressView",
            "bar_style": "success",
            "description": "",
            "description_tooltip": null,
            "layout": "IPY_MODEL_e5973756b008458f96d0856ad2b268e0",
            "max": 22883348,
            "min": 0,
            "orientation": "horizontal",
            "style": "IPY_MODEL_acf18c9f1ee14050a99671e03b320259",
            "value": 22883348
          }
        },
        "6794da46c1e24f528b8189eb7296480a": {
          "model_module": "@jupyter-widgets/controls",
          "model_name": "HTMLModel",
          "model_module_version": "1.5.0",
          "state": {
            "_dom_classes": [],
            "_model_module": "@jupyter-widgets/controls",
            "_model_module_version": "1.5.0",
            "_model_name": "HTMLModel",
            "_view_count": null,
            "_view_module": "@jupyter-widgets/controls",
            "_view_module_version": "1.5.0",
            "_view_name": "HTMLView",
            "description": "",
            "description_tooltip": null,
            "layout": "IPY_MODEL_5ba213973a734d2db3754b6c088e0be1",
            "placeholder": "​",
            "style": "IPY_MODEL_3d9bb20643a14c38b445b836c216ca83",
            "value": " 22.9M/22.9M [00:00&lt;00:00, 118MB/s]"
          }
        },
        "e14007abac694b29bf4a8bd0af4bfb59": {
          "model_module": "@jupyter-widgets/base",
          "model_name": "LayoutModel",
          "model_module_version": "1.2.0",
          "state": {
            "_model_module": "@jupyter-widgets/base",
            "_model_module_version": "1.2.0",
            "_model_name": "LayoutModel",
            "_view_count": null,
            "_view_module": "@jupyter-widgets/base",
            "_view_module_version": "1.2.0",
            "_view_name": "LayoutView",
            "align_content": null,
            "align_items": null,
            "align_self": null,
            "border": null,
            "bottom": null,
            "display": null,
            "flex": null,
            "flex_flow": null,
            "grid_area": null,
            "grid_auto_columns": null,
            "grid_auto_flow": null,
            "grid_auto_rows": null,
            "grid_column": null,
            "grid_gap": null,
            "grid_row": null,
            "grid_template_areas": null,
            "grid_template_columns": null,
            "grid_template_rows": null,
            "height": null,
            "justify_content": null,
            "justify_items": null,
            "left": null,
            "margin": null,
            "max_height": null,
            "max_width": null,
            "min_height": null,
            "min_width": null,
            "object_fit": null,
            "object_position": null,
            "order": null,
            "overflow": null,
            "overflow_x": null,
            "overflow_y": null,
            "padding": null,
            "right": null,
            "top": null,
            "visibility": null,
            "width": null
          }
        },
        "de1202cad8f1466cae3b42de936654f9": {
          "model_module": "@jupyter-widgets/base",
          "model_name": "LayoutModel",
          "model_module_version": "1.2.0",
          "state": {
            "_model_module": "@jupyter-widgets/base",
            "_model_module_version": "1.2.0",
            "_model_name": "LayoutModel",
            "_view_count": null,
            "_view_module": "@jupyter-widgets/base",
            "_view_module_version": "1.2.0",
            "_view_name": "LayoutView",
            "align_content": null,
            "align_items": null,
            "align_self": null,
            "border": null,
            "bottom": null,
            "display": null,
            "flex": null,
            "flex_flow": null,
            "grid_area": null,
            "grid_auto_columns": null,
            "grid_auto_flow": null,
            "grid_auto_rows": null,
            "grid_column": null,
            "grid_gap": null,
            "grid_row": null,
            "grid_template_areas": null,
            "grid_template_columns": null,
            "grid_template_rows": null,
            "height": null,
            "justify_content": null,
            "justify_items": null,
            "left": null,
            "margin": null,
            "max_height": null,
            "max_width": null,
            "min_height": null,
            "min_width": null,
            "object_fit": null,
            "object_position": null,
            "order": null,
            "overflow": null,
            "overflow_x": null,
            "overflow_y": null,
            "padding": null,
            "right": null,
            "top": null,
            "visibility": null,
            "width": null
          }
        },
        "55900947e1634504a18c953efeeff5b6": {
          "model_module": "@jupyter-widgets/controls",
          "model_name": "DescriptionStyleModel",
          "model_module_version": "1.5.0",
          "state": {
            "_model_module": "@jupyter-widgets/controls",
            "_model_module_version": "1.5.0",
            "_model_name": "DescriptionStyleModel",
            "_view_count": null,
            "_view_module": "@jupyter-widgets/base",
            "_view_module_version": "1.2.0",
            "_view_name": "StyleView",
            "description_width": ""
          }
        },
        "e5973756b008458f96d0856ad2b268e0": {
          "model_module": "@jupyter-widgets/base",
          "model_name": "LayoutModel",
          "model_module_version": "1.2.0",
          "state": {
            "_model_module": "@jupyter-widgets/base",
            "_model_module_version": "1.2.0",
            "_model_name": "LayoutModel",
            "_view_count": null,
            "_view_module": "@jupyter-widgets/base",
            "_view_module_version": "1.2.0",
            "_view_name": "LayoutView",
            "align_content": null,
            "align_items": null,
            "align_self": null,
            "border": null,
            "bottom": null,
            "display": null,
            "flex": null,
            "flex_flow": null,
            "grid_area": null,
            "grid_auto_columns": null,
            "grid_auto_flow": null,
            "grid_auto_rows": null,
            "grid_column": null,
            "grid_gap": null,
            "grid_row": null,
            "grid_template_areas": null,
            "grid_template_columns": null,
            "grid_template_rows": null,
            "height": null,
            "justify_content": null,
            "justify_items": null,
            "left": null,
            "margin": null,
            "max_height": null,
            "max_width": null,
            "min_height": null,
            "min_width": null,
            "object_fit": null,
            "object_position": null,
            "order": null,
            "overflow": null,
            "overflow_x": null,
            "overflow_y": null,
            "padding": null,
            "right": null,
            "top": null,
            "visibility": null,
            "width": null
          }
        },
        "acf18c9f1ee14050a99671e03b320259": {
          "model_module": "@jupyter-widgets/controls",
          "model_name": "ProgressStyleModel",
          "model_module_version": "1.5.0",
          "state": {
            "_model_module": "@jupyter-widgets/controls",
            "_model_module_version": "1.5.0",
            "_model_name": "ProgressStyleModel",
            "_view_count": null,
            "_view_module": "@jupyter-widgets/base",
            "_view_module_version": "1.2.0",
            "_view_name": "StyleView",
            "bar_color": null,
            "description_width": ""
          }
        },
        "5ba213973a734d2db3754b6c088e0be1": {
          "model_module": "@jupyter-widgets/base",
          "model_name": "LayoutModel",
          "model_module_version": "1.2.0",
          "state": {
            "_model_module": "@jupyter-widgets/base",
            "_model_module_version": "1.2.0",
            "_model_name": "LayoutModel",
            "_view_count": null,
            "_view_module": "@jupyter-widgets/base",
            "_view_module_version": "1.2.0",
            "_view_name": "LayoutView",
            "align_content": null,
            "align_items": null,
            "align_self": null,
            "border": null,
            "bottom": null,
            "display": null,
            "flex": null,
            "flex_flow": null,
            "grid_area": null,
            "grid_auto_columns": null,
            "grid_auto_flow": null,
            "grid_auto_rows": null,
            "grid_column": null,
            "grid_gap": null,
            "grid_row": null,
            "grid_template_areas": null,
            "grid_template_columns": null,
            "grid_template_rows": null,
            "height": null,
            "justify_content": null,
            "justify_items": null,
            "left": null,
            "margin": null,
            "max_height": null,
            "max_width": null,
            "min_height": null,
            "min_width": null,
            "object_fit": null,
            "object_position": null,
            "order": null,
            "overflow": null,
            "overflow_x": null,
            "overflow_y": null,
            "padding": null,
            "right": null,
            "top": null,
            "visibility": null,
            "width": null
          }
        },
        "3d9bb20643a14c38b445b836c216ca83": {
          "model_module": "@jupyter-widgets/controls",
          "model_name": "DescriptionStyleModel",
          "model_module_version": "1.5.0",
          "state": {
            "_model_module": "@jupyter-widgets/controls",
            "_model_module_version": "1.5.0",
            "_model_name": "DescriptionStyleModel",
            "_view_count": null,
            "_view_module": "@jupyter-widgets/base",
            "_view_module_version": "1.2.0",
            "_view_name": "StyleView",
            "description_width": ""
          }
        }
      }
    }
  },
  "cells": [
    {
      "cell_type": "code",
      "execution_count": 1,
      "metadata": {
        "id": "IdIO8VKiEY5l"
      },
      "outputs": [],
      "source": [
        "# CELL 1: Imports\n",
        "import os\n",
        "from torchvision import datasets, transforms\n",
        "from torch.utils.data import DataLoader, random_split, Subset\n",
        "import torch\n",
        "import torch.nn as nn\n",
        "import timm\n",
        "import torch.optim as optim\n",
        "from tqdm import tqdm\n",
        "import random\n",
        "import numpy as np\n",
        "import matplotlib.pyplot as plt\n",
        "from sklearn.metrics import f1_score, classification_report # Added for F1 score\n",
        "from torch.optim.lr_scheduler import ReduceLROnPlateau # Added for LR scheduling"
      ]
    },
    {
      "cell_type": "code",
      "source": [
        "# CELL 2: Mount to Drive\n",
        "from google.colab import drive\n",
        "drive.mount('/content/drive')"
      ],
      "metadata": {
        "colab": {
          "base_uri": "https://localhost:8080/"
        },
        "id": "iMM6kKlBEbOb",
        "outputId": "eec7dfc1-72c8-4e8a-abf3-5f567c34c116"
      },
      "execution_count": 2,
      "outputs": [
        {
          "output_type": "stream",
          "name": "stdout",
          "text": [
            "Mounted at /content/drive\n"
          ]
        }
      ]
    },
    {
      "cell_type": "code",
      "source": [
        "# CELL 3: Load and Augment the Dataset\n",
        "seed = 30\n",
        "torch.manual_seed(seed)\n",
        "random.seed(seed)\n",
        "np.random.seed(seed)\n",
        "torch.cuda.manual_seed_all(seed)\n",
        "\n",
        "# Dataset path and batch size\n",
        "dataset_path = '/content/drive/MyDrive/corn_train/train' # Ensure this path is correct for your environment\n",
        "batch_size = 8\n",
        "\n",
        "# Define transforms\n",
        "train_transform = transforms.Compose([\n",
        "    transforms.RandomResizedCrop(224),\n",
        "    transforms.RandomHorizontalFlip(),\n",
        "    transforms.RandomRotation(15),\n",
        "    transforms.ColorJitter(brightness=0.2, contrast=0.2, saturation=0.2),\n",
        "    transforms.ToTensor(),\n",
        "    transforms.Normalize(mean=[0.485, 0.456, 0.406], std=[0.229, 0.224, 0.225])\n",
        "])\n",
        "\n",
        "val_transform = transforms.Compose([\n",
        "    transforms.Resize((224, 224)),\n",
        "    transforms.ToTensor(),\n",
        "    transforms.Normalize(mean=[0.485, 0.456, 0.406], std=[0.229, 0.224, 0.225])\n",
        "])\n",
        "\n",
        "# Load entire dataset without transforms first\n",
        "base_dataset = datasets.ImageFolder(root=dataset_path)\n",
        "\n",
        "# Split dataset\n",
        "dataset_size = len(base_dataset)\n",
        "indices = list(range(dataset_size))\n",
        "split = int(np.floor(0.3 * dataset_size)) # 70/30 split\n",
        "np.random.shuffle(indices)\n",
        "\n",
        "train_indices, val_indices = indices[split:], indices[:split]\n",
        "\n",
        "# Create subsets\n",
        "train_dataset_subset = Subset(base_dataset, train_indices)\n",
        "val_dataset_subset = Subset(base_dataset, val_indices)\n",
        "\n",
        "# Apply transforms manually using a wrapper.\n",
        "class TransformSubset(torch.utils.data.Dataset):\n",
        "    def __init__(self, subset, transform):\n",
        "        self.subset = subset\n",
        "        self.transform = transform\n",
        "\n",
        "    def __getitem__(self, index):\n",
        "        x, y = self.subset[index]\n",
        "        if self.transform: # Apply transform if provided\n",
        "            x = self.transform(x)\n",
        "        return x, y\n",
        "\n",
        "    def __len__(self):\n",
        "        return len(self.subset)\n",
        "\n",
        "train_dataset = TransformSubset(train_dataset_subset, train_transform)\n",
        "val_dataset = TransformSubset(val_dataset_subset, val_transform)\n",
        "\n",
        "# Create data loaders\n",
        "train_loader = DataLoader(train_dataset, batch_size=batch_size, shuffle=True, num_workers=2)\n",
        "val_loader = DataLoader(val_dataset, batch_size=batch_size, shuffle=False, num_workers=2)"
      ],
      "metadata": {
        "id": "A0Kj9n8aEdM5"
      },
      "execution_count": 3,
      "outputs": []
    },
    {
      "cell_type": "code",
      "source": [
        "# CELL 4: Load the Model\n",
        "# Determine the number of classes\n",
        "num_classes = len(base_dataset.classes)\n",
        "class_names_from_dataset = base_dataset.classes # Store class names for reporting\n",
        "print(f\"Number of classes: {num_classes}\")\n",
        "print(f\"Class names: {class_names_from_dataset}\")\n",
        "\n",
        "\n",
        "# Load pre-trained DeiT model\n",
        "model = timm.create_model('deit_tiny_patch16_224', pretrained=True)\n",
        "\n",
        "# Modify the classification head\n",
        "model.head = nn.Linear(model.head.in_features, num_classes)\n",
        "\n",
        "# Define loss function and optimizer (Optimizer will be defined after class weights)\n",
        "# Criterion will be defined in Cell 6 after calculating weights"
      ],
      "metadata": {
        "colab": {
          "base_uri": "https://localhost:8080/",
          "height": 188,
          "referenced_widgets": [
            "853c0d993acf490190cb4bd044e0ae65",
            "34fee04a6a664333b6b93dd740358835",
            "07353cb833f04e20bc2afa200ce11453",
            "6794da46c1e24f528b8189eb7296480a",
            "e14007abac694b29bf4a8bd0af4bfb59",
            "de1202cad8f1466cae3b42de936654f9",
            "55900947e1634504a18c953efeeff5b6",
            "e5973756b008458f96d0856ad2b268e0",
            "acf18c9f1ee14050a99671e03b320259",
            "5ba213973a734d2db3754b6c088e0be1",
            "3d9bb20643a14c38b445b836c216ca83"
          ]
        },
        "id": "D6PUK1uQEjFx",
        "outputId": "ffdd37d3-632c-481c-a843-b63e98117dc2"
      },
      "execution_count": 4,
      "outputs": [
        {
          "output_type": "stream",
          "name": "stdout",
          "text": [
            "Number of classes: 4\n",
            "Class names: ['Blight', 'Common_Rust', 'Gray_Leaf_Spot', 'Healthy']\n"
          ]
        },
        {
          "output_type": "stream",
          "name": "stderr",
          "text": [
            "/usr/local/lib/python3.11/dist-packages/huggingface_hub/utils/_auth.py:94: UserWarning: \n",
            "The secret `HF_TOKEN` does not exist in your Colab secrets.\n",
            "To authenticate with the Hugging Face Hub, create a token in your settings tab (https://huggingface.co/settings/tokens), set it as secret in your Google Colab and restart your session.\n",
            "You will be able to reuse this secret in all of your notebooks.\n",
            "Please note that authentication is recommended but still optional to access public models or datasets.\n",
            "  warnings.warn(\n"
          ]
        },
        {
          "output_type": "display_data",
          "data": {
            "text/plain": [
              "model.safetensors:   0%|          | 0.00/22.9M [00:00<?, ?B/s]"
            ],
            "application/vnd.jupyter.widget-view+json": {
              "version_major": 2,
              "version_minor": 0,
              "model_id": "853c0d993acf490190cb4bd044e0ae65"
            }
          },
          "metadata": {}
        }
      ]
    },
    {
      "cell_type": "code",
      "source": [
        "# CELL 5: GPU (Optional)\n",
        "# Move model to GPU if available\n",
        "device = torch.device('cuda' if torch.cuda.is_available() else 'cpu')\n",
        "model.to(device)\n",
        "print(f\"Using device: {device}\")"
      ],
      "metadata": {
        "colab": {
          "base_uri": "https://localhost:8080/"
        },
        "id": "jG0JR-TJEuwt",
        "outputId": "904a1ba2-3e8d-40ee-d1dc-4a3744e6249e"
      },
      "execution_count": 5,
      "outputs": [
        {
          "output_type": "stream",
          "name": "stdout",
          "text": [
            "Using device: cuda\n"
          ]
        }
      ]
    },
    {
      "cell_type": "code",
      "source": [
        "# CELL 6: Address Imbalance\n",
        "from torch.nn import CrossEntropyLoss\n",
        "\n",
        "# Manually defined class counts (ensure this order matches base_dataset.classes)\n",
        "counts = {\n",
        "    'Blight': 917,\n",
        "    'Common_Rust': 1045,\n",
        "    'Gray_Leaf_Spot': 459,\n",
        "    'Healthy': 929\n",
        "}\n",
        "\n",
        "# Ensure class_names_from_dataset (from ImageFolder) are used to order counts correctly\n",
        "if not all(name in counts for name in class_names_from_dataset):\n",
        "    raise ValueError(\"Class names from dataset do not match keys in provided counts dictionary.\")\n",
        "\n",
        "ordered_counts = np.array([counts[name] for name in class_names_from_dataset])\n",
        "total_samples = np.sum(ordered_counts)\n",
        "\n",
        "# Calculate class weights: inverse frequency\n",
        "weights_values = total_samples / (num_classes * ordered_counts)\n",
        "weights = torch.tensor(weights_values, dtype=torch.float).to(device)\n",
        "\n",
        "# Use weighted loss\n",
        "criterion = CrossEntropyLoss(weight=weights)\n",
        "print(\"Class weights loaded into CrossEntropyLoss:\", weights.tolist())\n",
        "\n",
        "# Define optimizer and LR scheduler\n",
        "optimizer = optim.AdamW(model.parameters(), lr=1e-4, weight_decay=0.05)\n",
        "scheduler = ReduceLROnPlateau(optimizer, mode='max', factor=0.1, patience=5) # Monitor val_f1_macro"
      ],
      "metadata": {
        "colab": {
          "base_uri": "https://localhost:8080/"
        },
        "id": "aFA-v1fJEwdS",
        "outputId": "64ea7932-e9db-4b94-b9da-7875886eba55"
      },
      "execution_count": 7,
      "outputs": [
        {
          "output_type": "stream",
          "name": "stdout",
          "text": [
            "Class weights loaded into CrossEntropyLoss: [0.9133042693138123, 0.8014354109764099, 1.8246186971664429, 0.9015070199966431]\n"
          ]
        }
      ]
    },
    {
      "cell_type": "code",
      "source": [
        "# CELL 7: Train the Model (with F1, Early Stopping, and LR Scheduler)\n",
        "\n",
        "# Lists to save training metrics\n",
        "train_losses = []\n",
        "train_accuracies = []\n",
        "train_f1_macros = [] # New\n",
        "train_f1_weighteds = [] # New\n",
        "\n",
        "val_losses = []\n",
        "val_accuracies = []\n",
        "val_f1_macros = [] # New\n",
        "val_f1_weighteds = [] # New\n",
        "\n",
        "\n",
        "# Early Stopping parameters\n",
        "best_val_f1_macro = 0.0\n",
        "patience_counter = 0\n",
        "max_patience = 10 # Stop after 10 epochs of no improvement in val_f1_macro\n",
        "best_model_path = '/content/drive/MyDrive/CornLeaf_DeiT.pth' # Path to save the best model\n",
        "\n",
        "# Training loop\n",
        "num_epochs = 25 # Original number of epochs, might be stopped early\n",
        "for epoch in range(num_epochs):\n",
        "    model.train()\n",
        "    running_loss = 0.0\n",
        "    correct = 0\n",
        "    total = 0\n",
        "\n",
        "    all_train_labels = []\n",
        "    all_train_preds = []\n",
        "\n",
        "    print(f\"\\nEpoch [{epoch+1}/{num_epochs}]\")\n",
        "    progress_bar_train = tqdm(train_loader, desc=\"Training\", leave=False)\n",
        "    for images, labels in progress_bar_train:\n",
        "        images, labels = images.to(device), labels.to(device)\n",
        "\n",
        "        optimizer.zero_grad()\n",
        "        outputs = model(images)\n",
        "        loss = criterion(outputs, labels)\n",
        "        loss.backward()\n",
        "        optimizer.step()\n",
        "\n",
        "        running_loss += loss.item() * images.size(0)\n",
        "        _, predicted = outputs.max(1)\n",
        "        total += labels.size(0)\n",
        "        correct += predicted.eq(labels).sum().item()\n",
        "\n",
        "        all_train_labels.extend(labels.cpu().numpy())\n",
        "        all_train_preds.extend(predicted.cpu().numpy())\n",
        "        progress_bar_train.set_postfix({'loss': loss.item(), 'acc': correct/total if total > 0 else 0})\n",
        "\n",
        "\n",
        "    train_loss = running_loss / total\n",
        "    train_acc = correct / total\n",
        "    train_f1_macro_epoch = f1_score(all_train_labels, all_train_preds, average='macro', zero_division=0)\n",
        "    train_f1_weighted_epoch = f1_score(all_train_labels, all_train_preds, average='weighted', zero_division=0)\n",
        "\n",
        "    print(f\"Train Loss: {train_loss:.4f}, Accuracy: {train_acc:.4f}, F1 Macro: {train_f1_macro_epoch:.4f}, F1 Weighted: {train_f1_weighted_epoch:.4f}\")\n",
        "    train_losses.append(train_loss)\n",
        "    train_accuracies.append(train_acc)\n",
        "    train_f1_macros.append(train_f1_macro_epoch)\n",
        "    train_f1_weighteds.append(train_f1_weighted_epoch)\n",
        "\n",
        "    # Validation loop\n",
        "    model.eval()\n",
        "    val_loss = 0.0\n",
        "    val_correct = 0\n",
        "    val_total = 0\n",
        "\n",
        "    all_val_labels = []\n",
        "    all_val_preds = []\n",
        "\n",
        "    progress_bar_val = tqdm(val_loader, desc=\"Validating\", leave=False)\n",
        "    with torch.no_grad():\n",
        "        for images, labels in progress_bar_val:\n",
        "            images, labels = images.to(device), labels.to(device)\n",
        "\n",
        "            outputs = model(images)\n",
        "            loss = criterion(outputs, labels)\n",
        "\n",
        "            val_loss += loss.item() * images.size(0)\n",
        "            _, predicted = outputs.max(1)\n",
        "            val_total += labels.size(0)\n",
        "            val_correct += predicted.eq(labels).sum().item()\n",
        "\n",
        "            all_val_labels.extend(labels.cpu().numpy())\n",
        "            all_val_preds.extend(predicted.cpu().numpy())\n",
        "            progress_bar_val.set_postfix({'loss': loss.item(), 'acc': val_correct/val_total if val_total > 0 else 0})\n",
        "\n",
        "\n",
        "    val_loss /= val_total\n",
        "    val_acc = val_correct / val_total\n",
        "    val_f1_macro_epoch = f1_score(all_val_labels, all_val_preds, average='macro', zero_division=0)\n",
        "    val_f1_weighted_epoch = f1_score(all_val_labels, all_val_preds, average='weighted', zero_division=0)\n",
        "\n",
        "    print(f\"Val Loss: {val_loss:.4f}, Accuracy: {val_acc:.4f}, F1 Macro: {val_f1_macro_epoch:.4f}, F1 Weighted: {val_f1_weighted_epoch:.4f}\")\n",
        "    val_losses.append(val_loss)\n",
        "    val_accuracies.append(val_acc)\n",
        "    val_f1_macros.append(val_f1_macro_epoch)\n",
        "    val_f1_weighteds.append(val_f1_weighted_epoch)\n",
        "\n",
        "    # Classification report for validation\n",
        "    print(\"\\nValidation Classification Report:\")\n",
        "    print(classification_report(all_val_labels, all_val_preds, target_names=class_names_from_dataset, zero_division=0))\n",
        "\n",
        "    # LR Scheduler step\n",
        "    scheduler.step(val_f1_macro_epoch) # Step with validation F1 macro\n",
        "\n",
        "    # Early Stopping Check\n",
        "    if val_f1_macro_epoch > best_val_f1_macro:\n",
        "        best_val_f1_macro = val_f1_macro_epoch\n",
        "        patience_counter = 0\n",
        "        torch.save(model.state_dict(), best_model_path) # Save only the state_dict\n",
        "        print(f\"Validation F1 Macro improved to {best_val_f1_macro:.4f}. Saving model to {best_model_path}\")\n",
        "    else:\n",
        "        patience_counter += 1\n",
        "        print(f\"Validation F1 Macro did not improve. Patience: {patience_counter}/{max_patience}\")\n",
        "\n",
        "    if patience_counter >= max_patience:\n",
        "        print(f\"Early stopping at epoch {epoch+1} as validation F1 Macro did not improve for {max_patience} epochs.\")\n",
        "        break\n",
        "\n",
        "# Load the best model weights after training is complete (or early stopped)\n",
        "if os.path.exists(best_model_path):\n",
        "    model.load_state_dict(torch.load(best_model_path))\n",
        "    print(f\"Loaded best model weights from {best_model_path}\")"
      ],
      "metadata": {
        "colab": {
          "base_uri": "https://localhost:8080/"
        },
        "id": "B51UXiKlE1Ds",
        "outputId": "413d2e2b-b561-4e18-a483-2868061f087d"
      },
      "execution_count": 8,
      "outputs": [
        {
          "output_type": "stream",
          "name": "stdout",
          "text": [
            "\n",
            "Epoch [1/25]\n"
          ]
        },
        {
          "output_type": "stream",
          "name": "stderr",
          "text": []
        },
        {
          "output_type": "stream",
          "name": "stdout",
          "text": [
            "Train Loss: 0.4261, Accuracy: 0.8401, F1 Macro: 0.8110, F1 Weighted: 0.8439\n"
          ]
        },
        {
          "output_type": "stream",
          "name": "stderr",
          "text": []
        },
        {
          "output_type": "stream",
          "name": "stdout",
          "text": [
            "Val Loss: 0.2742, Accuracy: 0.9087, F1 Macro: 0.8927, F1 Weighted: 0.9126\n",
            "\n",
            "Validation Classification Report:\n",
            "                precision    recall  f1-score   support\n",
            "\n",
            "        Blight       0.91      0.80      0.86       254\n",
            "   Common_Rust       0.99      0.91      0.95       317\n",
            "Gray_Leaf_Spot       0.66      0.91      0.77       151\n",
            "       Healthy       1.00      1.00      1.00       286\n",
            "\n",
            "      accuracy                           0.91      1008\n",
            "     macro avg       0.89      0.91      0.89      1008\n",
            "  weighted avg       0.93      0.91      0.91      1008\n",
            "\n",
            "Validation F1 Macro improved to 0.8927. Saving model to /content/drive/MyDrive/CornLeaf_DeiT.pth\n",
            "\n",
            "Epoch [2/25]\n"
          ]
        },
        {
          "output_type": "stream",
          "name": "stderr",
          "text": []
        },
        {
          "output_type": "stream",
          "name": "stdout",
          "text": [
            "Train Loss: 0.2771, Accuracy: 0.9060, F1 Macro: 0.8854, F1 Weighted: 0.9075\n"
          ]
        },
        {
          "output_type": "stream",
          "name": "stderr",
          "text": []
        },
        {
          "output_type": "stream",
          "name": "stdout",
          "text": [
            "Val Loss: 0.1839, Accuracy: 0.9415, F1 Macro: 0.9276, F1 Weighted: 0.9417\n",
            "\n",
            "Validation Classification Report:\n",
            "                precision    recall  f1-score   support\n",
            "\n",
            "        Blight       0.86      0.93      0.90       254\n",
            "   Common_Rust       0.99      0.96      0.97       317\n",
            "Gray_Leaf_Spot       0.86      0.82      0.84       151\n",
            "       Healthy       1.00      1.00      1.00       286\n",
            "\n",
            "      accuracy                           0.94      1008\n",
            "     macro avg       0.93      0.93      0.93      1008\n",
            "  weighted avg       0.94      0.94      0.94      1008\n",
            "\n",
            "Validation F1 Macro improved to 0.9276. Saving model to /content/drive/MyDrive/CornLeaf_DeiT.pth\n",
            "\n",
            "Epoch [3/25]\n"
          ]
        },
        {
          "output_type": "stream",
          "name": "stderr",
          "text": []
        },
        {
          "output_type": "stream",
          "name": "stdout",
          "text": [
            "Train Loss: 0.2564, Accuracy: 0.9060, F1 Macro: 0.8884, F1 Weighted: 0.9073\n"
          ]
        },
        {
          "output_type": "stream",
          "name": "stderr",
          "text": []
        },
        {
          "output_type": "stream",
          "name": "stdout",
          "text": [
            "Val Loss: 0.1611, Accuracy: 0.9395, F1 Macro: 0.9251, F1 Weighted: 0.9399\n",
            "\n",
            "Validation Classification Report:\n",
            "                precision    recall  f1-score   support\n",
            "\n",
            "        Blight       0.95      0.84      0.89       254\n",
            "   Common_Rust       0.97      0.99      0.98       317\n",
            "Gray_Leaf_Spot       0.78      0.90      0.83       151\n",
            "       Healthy       1.00      1.00      1.00       286\n",
            "\n",
            "      accuracy                           0.94      1008\n",
            "     macro avg       0.92      0.93      0.93      1008\n",
            "  weighted avg       0.94      0.94      0.94      1008\n",
            "\n",
            "Validation F1 Macro did not improve. Patience: 1/10\n",
            "\n",
            "Epoch [4/25]\n"
          ]
        },
        {
          "output_type": "stream",
          "name": "stderr",
          "text": []
        },
        {
          "output_type": "stream",
          "name": "stdout",
          "text": [
            "Train Loss: 0.2324, Accuracy: 0.9205, F1 Macro: 0.9024, F1 Weighted: 0.9216\n"
          ]
        },
        {
          "output_type": "stream",
          "name": "stderr",
          "text": []
        },
        {
          "output_type": "stream",
          "name": "stdout",
          "text": [
            "Val Loss: 0.3779, Accuracy: 0.8958, F1 Macro: 0.8576, F1 Weighted: 0.8909\n",
            "\n",
            "Validation Classification Report:\n",
            "                precision    recall  f1-score   support\n",
            "\n",
            "        Blight       0.72      0.97      0.83       254\n",
            "   Common_Rust       0.99      0.97      0.98       317\n",
            "Gray_Leaf_Spot       0.91      0.50      0.64       151\n",
            "       Healthy       1.00      0.97      0.98       286\n",
            "\n",
            "      accuracy                           0.90      1008\n",
            "     macro avg       0.91      0.85      0.86      1008\n",
            "  weighted avg       0.91      0.90      0.89      1008\n",
            "\n",
            "Validation F1 Macro did not improve. Patience: 2/10\n",
            "\n",
            "Epoch [5/25]\n"
          ]
        },
        {
          "output_type": "stream",
          "name": "stderr",
          "text": []
        },
        {
          "output_type": "stream",
          "name": "stdout",
          "text": [
            "Train Loss: 0.2074, Accuracy: 0.9349, F1 Macro: 0.9192, F1 Weighted: 0.9360\n"
          ]
        },
        {
          "output_type": "stream",
          "name": "stderr",
          "text": []
        },
        {
          "output_type": "stream",
          "name": "stdout",
          "text": [
            "Val Loss: 0.2031, Accuracy: 0.9435, F1 Macro: 0.9304, F1 Weighted: 0.9433\n",
            "\n",
            "Validation Classification Report:\n",
            "                precision    recall  f1-score   support\n",
            "\n",
            "        Blight       0.84      0.96      0.90       254\n",
            "   Common_Rust       0.99      0.97      0.98       317\n",
            "Gray_Leaf_Spot       0.94      0.78      0.85       151\n",
            "       Healthy       1.00      0.98      0.99       286\n",
            "\n",
            "      accuracy                           0.94      1008\n",
            "     macro avg       0.94      0.92      0.93      1008\n",
            "  weighted avg       0.95      0.94      0.94      1008\n",
            "\n",
            "Validation F1 Macro improved to 0.9304. Saving model to /content/drive/MyDrive/CornLeaf_DeiT.pth\n",
            "\n",
            "Epoch [6/25]\n"
          ]
        },
        {
          "output_type": "stream",
          "name": "stderr",
          "text": []
        },
        {
          "output_type": "stream",
          "name": "stdout",
          "text": [
            "Train Loss: 0.1903, Accuracy: 0.9298, F1 Macro: 0.9139, F1 Weighted: 0.9307\n"
          ]
        },
        {
          "output_type": "stream",
          "name": "stderr",
          "text": []
        },
        {
          "output_type": "stream",
          "name": "stdout",
          "text": [
            "Val Loss: 0.1431, Accuracy: 0.9474, F1 Macro: 0.9342, F1 Weighted: 0.9476\n",
            "\n",
            "Validation Classification Report:\n",
            "                precision    recall  f1-score   support\n",
            "\n",
            "        Blight       0.91      0.90      0.90       254\n",
            "   Common_Rust       0.98      0.98      0.98       317\n",
            "Gray_Leaf_Spot       0.84      0.86      0.85       151\n",
            "       Healthy       1.00      1.00      1.00       286\n",
            "\n",
            "      accuracy                           0.95      1008\n",
            "     macro avg       0.93      0.94      0.93      1008\n",
            "  weighted avg       0.95      0.95      0.95      1008\n",
            "\n",
            "Validation F1 Macro improved to 0.9342. Saving model to /content/drive/MyDrive/CornLeaf_DeiT.pth\n",
            "\n",
            "Epoch [7/25]\n"
          ]
        },
        {
          "output_type": "stream",
          "name": "stderr",
          "text": []
        },
        {
          "output_type": "stream",
          "name": "stdout",
          "text": [
            "Train Loss: 0.1994, Accuracy: 0.9341, F1 Macro: 0.9197, F1 Weighted: 0.9348\n"
          ]
        },
        {
          "output_type": "stream",
          "name": "stderr",
          "text": []
        },
        {
          "output_type": "stream",
          "name": "stdout",
          "text": [
            "Val Loss: 0.2042, Accuracy: 0.9444, F1 Macro: 0.9300, F1 Weighted: 0.9433\n",
            "\n",
            "Validation Classification Report:\n",
            "                precision    recall  f1-score   support\n",
            "\n",
            "        Blight       0.87      0.96      0.92       254\n",
            "   Common_Rust       0.96      0.98      0.97       317\n",
            "Gray_Leaf_Spot       0.94      0.76      0.84       151\n",
            "       Healthy       1.00      0.99      0.99       286\n",
            "\n",
            "      accuracy                           0.94      1008\n",
            "     macro avg       0.94      0.92      0.93      1008\n",
            "  weighted avg       0.95      0.94      0.94      1008\n",
            "\n",
            "Validation F1 Macro did not improve. Patience: 1/10\n",
            "\n",
            "Epoch [8/25]\n"
          ]
        },
        {
          "output_type": "stream",
          "name": "stderr",
          "text": []
        },
        {
          "output_type": "stream",
          "name": "stdout",
          "text": [
            "Train Loss: 0.1890, Accuracy: 0.9405, F1 Macro: 0.9263, F1 Weighted: 0.9410\n"
          ]
        },
        {
          "output_type": "stream",
          "name": "stderr",
          "text": []
        },
        {
          "output_type": "stream",
          "name": "stdout",
          "text": [
            "Val Loss: 0.1619, Accuracy: 0.9464, F1 Macro: 0.9377, F1 Weighted: 0.9466\n",
            "\n",
            "Validation Classification Report:\n",
            "                precision    recall  f1-score   support\n",
            "\n",
            "        Blight       0.95      0.90      0.92       254\n",
            "   Common_Rust       0.95      0.99      0.97       317\n",
            "Gray_Leaf_Spot       0.86      0.91      0.88       151\n",
            "       Healthy       1.00      0.96      0.98       286\n",
            "\n",
            "      accuracy                           0.95      1008\n",
            "     macro avg       0.94      0.94      0.94      1008\n",
            "  weighted avg       0.95      0.95      0.95      1008\n",
            "\n",
            "Validation F1 Macro improved to 0.9377. Saving model to /content/drive/MyDrive/CornLeaf_DeiT.pth\n",
            "\n",
            "Epoch [9/25]\n"
          ]
        },
        {
          "output_type": "stream",
          "name": "stderr",
          "text": []
        },
        {
          "output_type": "stream",
          "name": "stdout",
          "text": [
            "Train Loss: 0.1815, Accuracy: 0.9366, F1 Macro: 0.9235, F1 Weighted: 0.9374\n"
          ]
        },
        {
          "output_type": "stream",
          "name": "stderr",
          "text": []
        },
        {
          "output_type": "stream",
          "name": "stdout",
          "text": [
            "Val Loss: 0.1289, Accuracy: 0.9613, F1 Macro: 0.9508, F1 Weighted: 0.9611\n",
            "\n",
            "Validation Classification Report:\n",
            "                precision    recall  f1-score   support\n",
            "\n",
            "        Blight       0.91      0.96      0.93       254\n",
            "   Common_Rust       0.99      0.98      0.98       317\n",
            "Gray_Leaf_Spot       0.93      0.85      0.89       151\n",
            "       Healthy       1.00      1.00      1.00       286\n",
            "\n",
            "      accuracy                           0.96      1008\n",
            "     macro avg       0.96      0.95      0.95      1008\n",
            "  weighted avg       0.96      0.96      0.96      1008\n",
            "\n",
            "Validation F1 Macro improved to 0.9508. Saving model to /content/drive/MyDrive/CornLeaf_DeiT.pth\n",
            "\n",
            "Epoch [10/25]\n"
          ]
        },
        {
          "output_type": "stream",
          "name": "stderr",
          "text": []
        },
        {
          "output_type": "stream",
          "name": "stdout",
          "text": [
            "Train Loss: 0.1673, Accuracy: 0.9418, F1 Macro: 0.9272, F1 Weighted: 0.9423\n"
          ]
        },
        {
          "output_type": "stream",
          "name": "stderr",
          "text": []
        },
        {
          "output_type": "stream",
          "name": "stdout",
          "text": [
            "Val Loss: 0.2225, Accuracy: 0.9444, F1 Macro: 0.9314, F1 Weighted: 0.9443\n",
            "\n",
            "Validation Classification Report:\n",
            "                precision    recall  f1-score   support\n",
            "\n",
            "        Blight       0.84      0.98      0.91       254\n",
            "   Common_Rust       1.00      0.95      0.97       317\n",
            "Gray_Leaf_Spot       0.94      0.77      0.85       151\n",
            "       Healthy       1.00      0.99      1.00       286\n",
            "\n",
            "      accuracy                           0.94      1008\n",
            "     macro avg       0.94      0.93      0.93      1008\n",
            "  weighted avg       0.95      0.94      0.94      1008\n",
            "\n",
            "Validation F1 Macro did not improve. Patience: 1/10\n",
            "\n",
            "Epoch [11/25]\n"
          ]
        },
        {
          "output_type": "stream",
          "name": "stderr",
          "text": []
        },
        {
          "output_type": "stream",
          "name": "stdout",
          "text": [
            "Train Loss: 0.1678, Accuracy: 0.9384, F1 Macro: 0.9265, F1 Weighted: 0.9387\n"
          ]
        },
        {
          "output_type": "stream",
          "name": "stderr",
          "text": []
        },
        {
          "output_type": "stream",
          "name": "stdout",
          "text": [
            "Val Loss: 0.2184, Accuracy: 0.9206, F1 Macro: 0.9045, F1 Weighted: 0.9216\n",
            "\n",
            "Validation Classification Report:\n",
            "                precision    recall  f1-score   support\n",
            "\n",
            "        Blight       0.94      0.79      0.86       254\n",
            "   Common_Rust       0.96      0.99      0.97       317\n",
            "Gray_Leaf_Spot       0.72      0.91      0.80       151\n",
            "       Healthy       1.00      0.97      0.99       286\n",
            "\n",
            "      accuracy                           0.92      1008\n",
            "     macro avg       0.90      0.91      0.90      1008\n",
            "  weighted avg       0.93      0.92      0.92      1008\n",
            "\n",
            "Validation F1 Macro did not improve. Patience: 2/10\n",
            "\n",
            "Epoch [12/25]\n"
          ]
        },
        {
          "output_type": "stream",
          "name": "stderr",
          "text": []
        },
        {
          "output_type": "stream",
          "name": "stdout",
          "text": [
            "Train Loss: 0.1731, Accuracy: 0.9409, F1 Macro: 0.9284, F1 Weighted: 0.9414\n"
          ]
        },
        {
          "output_type": "stream",
          "name": "stderr",
          "text": []
        },
        {
          "output_type": "stream",
          "name": "stdout",
          "text": [
            "Val Loss: 0.1529, Accuracy: 0.9563, F1 Macro: 0.9447, F1 Weighted: 0.9561\n",
            "\n",
            "Validation Classification Report:\n",
            "                precision    recall  f1-score   support\n",
            "\n",
            "        Blight       0.91      0.93      0.92       254\n",
            "   Common_Rust       0.98      0.99      0.98       317\n",
            "Gray_Leaf_Spot       0.90      0.85      0.87       151\n",
            "       Healthy       1.00      1.00      1.00       286\n",
            "\n",
            "      accuracy                           0.96      1008\n",
            "     macro avg       0.95      0.94      0.94      1008\n",
            "  weighted avg       0.96      0.96      0.96      1008\n",
            "\n",
            "Validation F1 Macro did not improve. Patience: 3/10\n",
            "\n",
            "Epoch [13/25]\n"
          ]
        },
        {
          "output_type": "stream",
          "name": "stderr",
          "text": []
        },
        {
          "output_type": "stream",
          "name": "stdout",
          "text": [
            "Train Loss: 0.1512, Accuracy: 0.9452, F1 Macro: 0.9332, F1 Weighted: 0.9457\n"
          ]
        },
        {
          "output_type": "stream",
          "name": "stderr",
          "text": []
        },
        {
          "output_type": "stream",
          "name": "stdout",
          "text": [
            "Val Loss: 0.1784, Accuracy: 0.9514, F1 Macro: 0.9395, F1 Weighted: 0.9512\n",
            "\n",
            "Validation Classification Report:\n",
            "                precision    recall  f1-score   support\n",
            "\n",
            "        Blight       0.91      0.94      0.92       254\n",
            "   Common_Rust       0.97      0.97      0.97       317\n",
            "Gray_Leaf_Spot       0.89      0.84      0.86       151\n",
            "       Healthy       1.00      0.99      1.00       286\n",
            "\n",
            "      accuracy                           0.95      1008\n",
            "     macro avg       0.94      0.94      0.94      1008\n",
            "  weighted avg       0.95      0.95      0.95      1008\n",
            "\n",
            "Validation F1 Macro did not improve. Patience: 4/10\n",
            "\n",
            "Epoch [14/25]\n"
          ]
        },
        {
          "output_type": "stream",
          "name": "stderr",
          "text": []
        },
        {
          "output_type": "stream",
          "name": "stdout",
          "text": [
            "Train Loss: 0.1708, Accuracy: 0.9384, F1 Macro: 0.9263, F1 Weighted: 0.9386\n"
          ]
        },
        {
          "output_type": "stream",
          "name": "stderr",
          "text": []
        },
        {
          "output_type": "stream",
          "name": "stdout",
          "text": [
            "Val Loss: 0.2221, Accuracy: 0.9335, F1 Macro: 0.9193, F1 Weighted: 0.9335\n",
            "\n",
            "Validation Classification Report:\n",
            "                precision    recall  f1-score   support\n",
            "\n",
            "        Blight       0.83      0.94      0.89       254\n",
            "   Common_Rust       0.98      0.98      0.98       317\n",
            "Gray_Leaf_Spot       0.91      0.77      0.84       151\n",
            "       Healthy       1.00      0.95      0.97       286\n",
            "\n",
            "      accuracy                           0.93      1008\n",
            "     macro avg       0.93      0.91      0.92      1008\n",
            "  weighted avg       0.94      0.93      0.93      1008\n",
            "\n",
            "Validation F1 Macro did not improve. Patience: 5/10\n",
            "\n",
            "Epoch [15/25]\n"
          ]
        },
        {
          "output_type": "stream",
          "name": "stderr",
          "text": []
        },
        {
          "output_type": "stream",
          "name": "stdout",
          "text": [
            "Train Loss: 0.1492, Accuracy: 0.9494, F1 Macro: 0.9380, F1 Weighted: 0.9499\n"
          ]
        },
        {
          "output_type": "stream",
          "name": "stderr",
          "text": []
        },
        {
          "output_type": "stream",
          "name": "stdout",
          "text": [
            "Val Loss: 0.1748, Accuracy: 0.9573, F1 Macro: 0.9459, F1 Weighted: 0.9568\n",
            "\n",
            "Validation Classification Report:\n",
            "                precision    recall  f1-score   support\n",
            "\n",
            "        Blight       0.87      1.00      0.93       254\n",
            "   Common_Rust       0.99      0.98      0.99       317\n",
            "Gray_Leaf_Spot       0.99      0.79      0.88       151\n",
            "       Healthy       1.00      0.99      0.99       286\n",
            "\n",
            "      accuracy                           0.96      1008\n",
            "     macro avg       0.96      0.94      0.95      1008\n",
            "  weighted avg       0.96      0.96      0.96      1008\n",
            "\n",
            "Validation F1 Macro did not improve. Patience: 6/10\n",
            "\n",
            "Epoch [16/25]\n"
          ]
        },
        {
          "output_type": "stream",
          "name": "stderr",
          "text": []
        },
        {
          "output_type": "stream",
          "name": "stdout",
          "text": [
            "Train Loss: 0.1071, Accuracy: 0.9702, F1 Macro: 0.9637, F1 Weighted: 0.9703\n"
          ]
        },
        {
          "output_type": "stream",
          "name": "stderr",
          "text": []
        },
        {
          "output_type": "stream",
          "name": "stdout",
          "text": [
            "Val Loss: 0.1158, Accuracy: 0.9653, F1 Macro: 0.9584, F1 Weighted: 0.9654\n",
            "\n",
            "Validation Classification Report:\n",
            "                precision    recall  f1-score   support\n",
            "\n",
            "        Blight       0.92      0.96      0.94       254\n",
            "   Common_Rust       0.99      0.98      0.98       317\n",
            "Gray_Leaf_Spot       0.93      0.91      0.92       151\n",
            "       Healthy       1.00      0.99      0.99       286\n",
            "\n",
            "      accuracy                           0.97      1008\n",
            "     macro avg       0.96      0.96      0.96      1008\n",
            "  weighted avg       0.97      0.97      0.97      1008\n",
            "\n",
            "Validation F1 Macro improved to 0.9584. Saving model to /content/drive/MyDrive/CornLeaf_DeiT.pth\n",
            "\n",
            "Epoch [17/25]\n"
          ]
        },
        {
          "output_type": "stream",
          "name": "stderr",
          "text": []
        },
        {
          "output_type": "stream",
          "name": "stdout",
          "text": [
            "Train Loss: 0.0740, Accuracy: 0.9762, F1 Macro: 0.9702, F1 Weighted: 0.9763\n"
          ]
        },
        {
          "output_type": "stream",
          "name": "stderr",
          "text": []
        },
        {
          "output_type": "stream",
          "name": "stdout",
          "text": [
            "Val Loss: 0.1367, Accuracy: 0.9653, F1 Macro: 0.9587, F1 Weighted: 0.9654\n",
            "\n",
            "Validation Classification Report:\n",
            "                precision    recall  f1-score   support\n",
            "\n",
            "        Blight       0.91      0.97      0.94       254\n",
            "   Common_Rust       0.99      0.98      0.98       317\n",
            "Gray_Leaf_Spot       0.94      0.90      0.92       151\n",
            "       Healthy       1.00      0.98      0.99       286\n",
            "\n",
            "      accuracy                           0.97      1008\n",
            "     macro avg       0.96      0.96      0.96      1008\n",
            "  weighted avg       0.97      0.97      0.97      1008\n",
            "\n",
            "Validation F1 Macro improved to 0.9587. Saving model to /content/drive/MyDrive/CornLeaf_DeiT.pth\n",
            "\n",
            "Epoch [18/25]\n"
          ]
        },
        {
          "output_type": "stream",
          "name": "stderr",
          "text": []
        },
        {
          "output_type": "stream",
          "name": "stdout",
          "text": [
            "Train Loss: 0.0842, Accuracy: 0.9728, F1 Macro: 0.9677, F1 Weighted: 0.9729\n"
          ]
        },
        {
          "output_type": "stream",
          "name": "stderr",
          "text": []
        },
        {
          "output_type": "stream",
          "name": "stdout",
          "text": [
            "Val Loss: 0.1411, Accuracy: 0.9653, F1 Macro: 0.9589, F1 Weighted: 0.9654\n",
            "\n",
            "Validation Classification Report:\n",
            "                precision    recall  f1-score   support\n",
            "\n",
            "        Blight       0.91      0.97      0.94       254\n",
            "   Common_Rust       0.99      0.98      0.99       317\n",
            "Gray_Leaf_Spot       0.95      0.89      0.92       151\n",
            "       Healthy       1.00      0.98      0.99       286\n",
            "\n",
            "      accuracy                           0.97      1008\n",
            "     macro avg       0.96      0.96      0.96      1008\n",
            "  weighted avg       0.97      0.97      0.97      1008\n",
            "\n",
            "Validation F1 Macro improved to 0.9589. Saving model to /content/drive/MyDrive/CornLeaf_DeiT.pth\n",
            "\n",
            "Epoch [19/25]\n"
          ]
        },
        {
          "output_type": "stream",
          "name": "stderr",
          "text": []
        },
        {
          "output_type": "stream",
          "name": "stdout",
          "text": [
            "Train Loss: 0.0863, Accuracy: 0.9681, F1 Macro: 0.9611, F1 Weighted: 0.9682\n"
          ]
        },
        {
          "output_type": "stream",
          "name": "stderr",
          "text": []
        },
        {
          "output_type": "stream",
          "name": "stdout",
          "text": [
            "Val Loss: 0.1311, Accuracy: 0.9633, F1 Macro: 0.9572, F1 Weighted: 0.9635\n",
            "\n",
            "Validation Classification Report:\n",
            "                precision    recall  f1-score   support\n",
            "\n",
            "        Blight       0.92      0.95      0.94       254\n",
            "   Common_Rust       0.99      0.98      0.98       317\n",
            "Gray_Leaf_Spot       0.92      0.93      0.92       151\n",
            "       Healthy       1.00      0.98      0.99       286\n",
            "\n",
            "      accuracy                           0.96      1008\n",
            "     macro avg       0.96      0.96      0.96      1008\n",
            "  weighted avg       0.96      0.96      0.96      1008\n",
            "\n",
            "Validation F1 Macro did not improve. Patience: 1/10\n",
            "\n",
            "Epoch [20/25]\n"
          ]
        },
        {
          "output_type": "stream",
          "name": "stderr",
          "text": []
        },
        {
          "output_type": "stream",
          "name": "stdout",
          "text": [
            "Train Loss: 0.0891, Accuracy: 0.9698, F1 Macro: 0.9637, F1 Weighted: 0.9700\n"
          ]
        },
        {
          "output_type": "stream",
          "name": "stderr",
          "text": []
        },
        {
          "output_type": "stream",
          "name": "stdout",
          "text": [
            "Val Loss: 0.1400, Accuracy: 0.9663, F1 Macro: 0.9614, F1 Weighted: 0.9664\n",
            "\n",
            "Validation Classification Report:\n",
            "                precision    recall  f1-score   support\n",
            "\n",
            "        Blight       0.92      0.98      0.95       254\n",
            "   Common_Rust       0.98      0.98      0.98       317\n",
            "Gray_Leaf_Spot       0.96      0.91      0.93       151\n",
            "       Healthy       1.00      0.98      0.99       286\n",
            "\n",
            "      accuracy                           0.97      1008\n",
            "     macro avg       0.96      0.96      0.96      1008\n",
            "  weighted avg       0.97      0.97      0.97      1008\n",
            "\n",
            "Validation F1 Macro improved to 0.9614. Saving model to /content/drive/MyDrive/CornLeaf_DeiT.pth\n",
            "\n",
            "Epoch [21/25]\n"
          ]
        },
        {
          "output_type": "stream",
          "name": "stderr",
          "text": []
        },
        {
          "output_type": "stream",
          "name": "stdout",
          "text": [
            "Train Loss: 0.0678, Accuracy: 0.9779, F1 Macro: 0.9731, F1 Weighted: 0.9779\n"
          ]
        },
        {
          "output_type": "stream",
          "name": "stderr",
          "text": []
        },
        {
          "output_type": "stream",
          "name": "stdout",
          "text": [
            "Val Loss: 0.1339, Accuracy: 0.9653, F1 Macro: 0.9587, F1 Weighted: 0.9654\n",
            "\n",
            "Validation Classification Report:\n",
            "                precision    recall  f1-score   support\n",
            "\n",
            "        Blight       0.91      0.97      0.94       254\n",
            "   Common_Rust       0.99      0.98      0.98       317\n",
            "Gray_Leaf_Spot       0.94      0.90      0.92       151\n",
            "       Healthy       1.00      0.98      0.99       286\n",
            "\n",
            "      accuracy                           0.97      1008\n",
            "     macro avg       0.96      0.96      0.96      1008\n",
            "  weighted avg       0.97      0.97      0.97      1008\n",
            "\n",
            "Validation F1 Macro did not improve. Patience: 1/10\n",
            "\n",
            "Epoch [22/25]\n"
          ]
        },
        {
          "output_type": "stream",
          "name": "stderr",
          "text": []
        },
        {
          "output_type": "stream",
          "name": "stdout",
          "text": [
            "Train Loss: 0.0649, Accuracy: 0.9766, F1 Macro: 0.9716, F1 Weighted: 0.9766\n"
          ]
        },
        {
          "output_type": "stream",
          "name": "stderr",
          "text": []
        },
        {
          "output_type": "stream",
          "name": "stdout",
          "text": [
            "Val Loss: 0.1248, Accuracy: 0.9633, F1 Macro: 0.9566, F1 Weighted: 0.9636\n",
            "\n",
            "Validation Classification Report:\n",
            "                precision    recall  f1-score   support\n",
            "\n",
            "        Blight       0.93      0.95      0.94       254\n",
            "   Common_Rust       0.99      0.97      0.98       317\n",
            "Gray_Leaf_Spot       0.90      0.93      0.92       151\n",
            "       Healthy       1.00      0.98      0.99       286\n",
            "\n",
            "      accuracy                           0.96      1008\n",
            "     macro avg       0.96      0.96      0.96      1008\n",
            "  weighted avg       0.96      0.96      0.96      1008\n",
            "\n",
            "Validation F1 Macro did not improve. Patience: 2/10\n",
            "\n",
            "Epoch [23/25]\n"
          ]
        },
        {
          "output_type": "stream",
          "name": "stderr",
          "text": []
        },
        {
          "output_type": "stream",
          "name": "stdout",
          "text": [
            "Train Loss: 0.0679, Accuracy: 0.9741, F1 Macro: 0.9687, F1 Weighted: 0.9742\n"
          ]
        },
        {
          "output_type": "stream",
          "name": "stderr",
          "text": []
        },
        {
          "output_type": "stream",
          "name": "stdout",
          "text": [
            "Val Loss: 0.1350, Accuracy: 0.9623, F1 Macro: 0.9547, F1 Weighted: 0.9626\n",
            "\n",
            "Validation Classification Report:\n",
            "                precision    recall  f1-score   support\n",
            "\n",
            "        Blight       0.94      0.93      0.93       254\n",
            "   Common_Rust       0.99      0.97      0.98       317\n",
            "Gray_Leaf_Spot       0.88      0.93      0.91       151\n",
            "       Healthy       1.00      0.99      0.99       286\n",
            "\n",
            "      accuracy                           0.96      1008\n",
            "     macro avg       0.95      0.96      0.95      1008\n",
            "  weighted avg       0.96      0.96      0.96      1008\n",
            "\n",
            "Validation F1 Macro did not improve. Patience: 3/10\n",
            "\n",
            "Epoch [24/25]\n"
          ]
        },
        {
          "output_type": "stream",
          "name": "stderr",
          "text": []
        },
        {
          "output_type": "stream",
          "name": "stdout",
          "text": [
            "Train Loss: 0.0525, Accuracy: 0.9821, F1 Macro: 0.9787, F1 Weighted: 0.9822\n"
          ]
        },
        {
          "output_type": "stream",
          "name": "stderr",
          "text": []
        },
        {
          "output_type": "stream",
          "name": "stdout",
          "text": [
            "Val Loss: 0.1369, Accuracy: 0.9663, F1 Macro: 0.9595, F1 Weighted: 0.9664\n",
            "\n",
            "Validation Classification Report:\n",
            "                precision    recall  f1-score   support\n",
            "\n",
            "        Blight       0.93      0.95      0.94       254\n",
            "   Common_Rust       0.99      0.98      0.98       317\n",
            "Gray_Leaf_Spot       0.91      0.92      0.92       151\n",
            "       Healthy       1.00      0.99      1.00       286\n",
            "\n",
            "      accuracy                           0.97      1008\n",
            "     macro avg       0.96      0.96      0.96      1008\n",
            "  weighted avg       0.97      0.97      0.97      1008\n",
            "\n",
            "Validation F1 Macro did not improve. Patience: 4/10\n",
            "\n",
            "Epoch [25/25]\n"
          ]
        },
        {
          "output_type": "stream",
          "name": "stderr",
          "text": []
        },
        {
          "output_type": "stream",
          "name": "stdout",
          "text": [
            "Train Loss: 0.0575, Accuracy: 0.9792, F1 Macro: 0.9750, F1 Weighted: 0.9792\n"
          ]
        },
        {
          "output_type": "stream",
          "name": "stderr",
          "text": []
        },
        {
          "output_type": "stream",
          "name": "stdout",
          "text": [
            "Val Loss: 0.1608, Accuracy: 0.9683, F1 Macro: 0.9623, F1 Weighted: 0.9683\n",
            "\n",
            "Validation Classification Report:\n",
            "                precision    recall  f1-score   support\n",
            "\n",
            "        Blight       0.92      0.97      0.94       254\n",
            "   Common_Rust       0.99      0.97      0.98       317\n",
            "Gray_Leaf_Spot       0.94      0.91      0.93       151\n",
            "       Healthy       1.00      0.99      1.00       286\n",
            "\n",
            "      accuracy                           0.97      1008\n",
            "     macro avg       0.96      0.96      0.96      1008\n",
            "  weighted avg       0.97      0.97      0.97      1008\n",
            "\n",
            "Validation F1 Macro improved to 0.9623. Saving model to /content/drive/MyDrive/CornLeaf_DeiT.pth\n",
            "Loaded best model weights from /content/drive/MyDrive/CornLeaf_DeiT.pth\n"
          ]
        }
      ]
    },
    {
      "cell_type": "code",
      "source": [
        "# CELL 8: Save the Model (This cell can now save the best model if needed, or the final one)\n",
        "# The best model is already saved by the early stopping logic.\n",
        "# If you want to save the final model regardless of early stopping, you can use:\n",
        "final_model_path = '/content/drive/MyDrive/CornLeaf_DeiT_final.pth'\n",
        "torch.save(model.state_dict(), final_model_path) # Save state_dict for more flexibility\n",
        "print(f\"Final model state_dict saved to {final_model_path}\")"
      ],
      "metadata": {
        "colab": {
          "base_uri": "https://localhost:8080/"
        },
        "id": "lBM0tmEaE5KX",
        "outputId": "2aa84b3d-8926-4c49-d700-5decfe349608"
      },
      "execution_count": 9,
      "outputs": [
        {
          "output_type": "stream",
          "name": "stdout",
          "text": [
            "Final model state_dict saved to /content/drive/MyDrive/CornLeaf_DeiT_final.pth\n"
          ]
        }
      ]
    },
    {
      "cell_type": "code",
      "source": [
        "# CELL 9: Plot Progress (Updated to include F1 scores)\n",
        "# Ensure training actually ran by checking if lists are populated\n",
        "if train_losses: # Check if any training happened\n",
        "    epochs_range = range(1, len(train_losses) + 1) # Use actual number of epochs run\n",
        "    plt.figure(figsize=(18, 12)) # Adjusted figure size for more plots\n",
        "\n",
        "    # Loss plot\n",
        "    plt.subplot(2, 2, 1)\n",
        "    plt.plot(epochs_range, train_losses, label='Train Loss')\n",
        "    plt.plot(epochs_range, val_losses, label='Val Loss')\n",
        "    plt.xlabel('Epoch')\n",
        "    plt.ylabel('Loss')\n",
        "    plt.title('Loss over Epochs')\n",
        "    plt.legend()\n",
        "    plt.grid(True)\n",
        "\n",
        "    # Accuracy plot\n",
        "    plt.subplot(2, 2, 2)\n",
        "    plt.plot(epochs_range, train_accuracies, label='Train Accuracy')\n",
        "    plt.plot(epochs_range, val_accuracies, label='Val Accuracy')\n",
        "    plt.xlabel('Epoch')\n",
        "    plt.ylabel('Accuracy')\n",
        "    plt.title('Accuracy over Epochs')\n",
        "    plt.legend()\n",
        "    plt.grid(True)\n",
        "\n",
        "    # F1 Macro plot\n",
        "    plt.subplot(2, 2, 3)\n",
        "    plt.plot(epochs_range, train_f1_macros, label='Train F1 Macro')\n",
        "    plt.plot(epochs_range, val_f1_macros, label='Val F1 Macro')\n",
        "    plt.xlabel('Epoch')\n",
        "    plt.ylabel('F1 Macro Score')\n",
        "    plt.title('F1 Macro Score over Epochs')\n",
        "    plt.legend()\n",
        "    plt.grid(True)\n",
        "\n",
        "    # F1 Weighted plot\n",
        "    plt.subplot(2, 2, 4)\n",
        "    plt.plot(epochs_range, train_f1_weighteds, label='Train F1 Weighted')\n",
        "    plt.plot(epochs_range, val_f1_weighteds, label='Val F1 Weighted')\n",
        "    plt.xlabel('Epoch')\n",
        "    plt.ylabel('F1 Weighted Score')\n",
        "    plt.title('F1 Weighted Score over Epochs')\n",
        "    plt.legend()\n",
        "    plt.grid(True)\n",
        "\n",
        "    plt.tight_layout()\n",
        "    plt.show()\n",
        "else:\n",
        "    print(\"No training data to plot. Please run the training cell (Cell 7).\")"
      ],
      "metadata": {
        "colab": {
          "base_uri": "https://localhost:8080/",
          "height": 1000
        },
        "id": "PcqN1Q1ME7jI",
        "outputId": "27374867-54bf-4657-c33f-26cc313e36e6"
      },
      "execution_count": 10,
      "outputs": [
        {
          "output_type": "display_data",
          "data": {
            "text/plain": [
              "<Figure size 1800x1200 with 4 Axes>"
            ],
            "image/png": "[encoded data removed]"
          },
          "metadata": {}
        }
      ]
    }
  ]
}