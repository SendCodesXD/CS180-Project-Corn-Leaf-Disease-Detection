{
  "nbformat": 4,
  "nbformat_minor": 0,
  "metadata": {
    "colab": {
      "provenance": [],
      "machine_shape": "hm",
      "gpuType": "A100"
    },
    "kernelspec": {
      "name": "python3",
      "display_name": "Python 3"
    },
    "language_info": {
      "name": "python"
    },
    "accelerator": "GPU"
  },
  "cells": [
    {
      "cell_type": "code",
      "execution_count": 6,
      "metadata": {
        "colab": {
          "base_uri": "https://localhost:8080/"
        },
        "id": "6lUDn8k_TSY-",
        "outputId": "bd01490b-69e4-4045-bacd-16b934ee66c3"
      },
      "outputs": [
        {
          "output_type": "stream",
          "name": "stdout",
          "text": [
            "Mounted at /content/drive\n"
          ]
        }
      ],
      "source": [
        "# CELL 1: Mount Google Drive and Import Libraries\n",
        "import torch\n",
        "import torch.nn as nn\n",
        "from torchvision import transforms\n",
        "from torch.utils.data import Dataset, DataLoader # For custom dataset for test images and for creating data loaders\n",
        "from PIL import Image\n",
        "import numpy as np\n",
        "import pandas as pd\n",
        "import os\n",
        "import zipfile\n",
        "import shutil # For cleaning up\n",
        "from tqdm import tqdm # For progress bar\n",
        "import timm # For DeiT model definition\n",
        "\n",
        "from google.colab import drive\n",
        "drive.mount('/content/drive', force_remount=True)"
      ]
    },
    {
      "cell_type": "code",
      "source": [
        "# CELL 2: Define Paths and Constants\n",
        "# !!! ADJUST THESE PATHS ACCORDING TO YOUR DRIVE STRUCTURE !!!\n",
        "MODEL_PATH = '/content/drive/MyDrive/CornLeaf_DeiT.pth' # Path to your saved DeiT .pth model state_dict\n",
        "TEST_ZIP_PATH = '/content/drive/MyDrive/CS180 Project Test Sets/corn_test.zip' # Path to corn_test.zip\n",
        "CSV_OUTPUT_PATH = '/content/drive/MyDrive/predictions_deit.csv' # Output CSV path\n",
        "\n",
        "# Paths for extracting the test images\n",
        "EXTRACT_TO_PATH = '/content/corn_test_extracted_pred/'\n",
        "TEST_IMAGE_FOLDER = os.path.join(EXTRACT_TO_PATH, 'corn_test') # Assumes zip contains 'corn_test' folder\n",
        "\n",
        "# Model input image dimensions (DeiT tiny patch16 224 uses 224x224)\n",
        "IMG_SIZE = 224\n",
        "CLASS_NAMES = ['Blight', 'Common_Rust', 'Gray_Leaf_Spot', 'Healthy'] # Must match training order\n",
        "NUM_CLASSES = len(CLASS_NAMES)\n",
        "BATCH_SIZE_PRED = 32 # Batch size for prediction, adjust based on Colab RAM/GPU"
      ],
      "metadata": {
        "id": "bdaR1dQhTVrA"
      },
      "execution_count": 7,
      "outputs": []
    },
    {
      "cell_type": "code",
      "source": [
        "# CELL 3: Unzip the Test Set\n",
        "if os.path.exists(TEST_IMAGE_FOLDER):\n",
        "    print(f\"Test images folder already exists at {TEST_IMAGE_FOLDER}. Using existing files.\")\n",
        "else:\n",
        "    if os.path.exists(EXTRACT_TO_PATH):\n",
        "        shutil.rmtree(EXTRACT_TO_PATH)\n",
        "    os.makedirs(EXTRACT_TO_PATH, exist_ok=True)\n",
        "\n",
        "    if os.path.exists(TEST_ZIP_PATH):\n",
        "        print(f\"Extracting test images from {TEST_ZIP_PATH}...\")\n",
        "        with zipfile.ZipFile(TEST_ZIP_PATH, 'r') as zip_ref:\n",
        "            zip_ref.extractall(EXTRACT_TO_PATH)\n",
        "        print(f\"Test images extracted to {TEST_IMAGE_FOLDER}\")\n",
        "    else:\n",
        "        print(f\"ERROR: Test ZIP file not found at {TEST_ZIP_PATH}. Please check the path.\")\n",
        "        raise FileNotFoundError(f\"Test ZIP file not found at {TEST_ZIP_PATH}\")\n",
        "\n",
        "if os.path.exists(TEST_IMAGE_FOLDER):\n",
        "    print(f\"Found {len(os.listdir(TEST_IMAGE_FOLDER))} files/folders in {TEST_IMAGE_FOLDER}\")\n",
        "else:\n",
        "    raise FileNotFoundError(f\"Error: {TEST_IMAGE_FOLDER} not found after attempting to extract.\")"
      ],
      "metadata": {
        "colab": {
          "base_uri": "https://localhost:8080/"
        },
        "id": "flqjURXpTb8W",
        "outputId": "3ad26a93-c139-4b74-e243-df3622ea261b"
      },
      "execution_count": 8,
      "outputs": [
        {
          "output_type": "stream",
          "name": "stdout",
          "text": [
            "Test images folder already exists at /content/corn_test_extracted_pred/corn_test. Using existing files.\n",
            "Found 838 files/folders in /content/corn_test_extracted_pred/corn_test\n"
          ]
        }
      ]
    },
    {
      "cell_type": "code",
      "source": [
        "# CELL 4: Load the Trained DeiT Model\n",
        "device = torch.device('cuda' if torch.cuda.is_available() else 'cpu')\n",
        "print(f\"Using device: {device}\")\n",
        "\n",
        "model = timm.create_model('deit_tiny_patch16_224', pretrained=False, num_classes=NUM_CLASSES) # Use False if loading fine-tuned weights\n",
        "if os.path.exists(MODEL_PATH):\n",
        "    try:\n",
        "        model.load_state_dict(torch.load(MODEL_PATH, map_location=device))\n",
        "        model.to(device)\n",
        "        model.eval() # Set model to evaluation mode\n",
        "        print(\"DeiT model loaded successfully and set to evaluation mode.\")\n",
        "    except Exception as e:\n",
        "        print(f\"Error loading DeiT model state_dict: {e}\")\n",
        "        raise\n",
        "else:\n",
        "    print(f\"ERROR: Model file not found at {MODEL_PATH}.\")\n",
        "    raise FileNotFoundError(f\"Model file not found at {MODEL_PATH}\")"
      ],
      "metadata": {
        "colab": {
          "base_uri": "https://localhost:8080/"
        },
        "id": "SN4ko0QkTcdn",
        "outputId": "b08c94f2-753e-45bc-ca5e-551b4bc54507"
      },
      "execution_count": 9,
      "outputs": [
        {
          "output_type": "stream",
          "name": "stdout",
          "text": [
            "Using device: cuda\n",
            "DeiT model loaded successfully and set to evaluation mode.\n"
          ]
        }
      ]
    },
    {
      "cell_type": "code",
      "source": [
        "# CELL 5: Define Transforms and Dataset for Test Images\n",
        "test_transform = transforms.Compose([\n",
        "    transforms.Resize((IMG_SIZE, IMG_SIZE)),\n",
        "    transforms.ToTensor(),\n",
        "    transforms.Normalize(mean=[0.485, 0.456, 0.406], std=[0.229, 0.224, 0.225])\n",
        "])\n",
        "\n",
        "class TestImageDataset(Dataset):\n",
        "    def __init__(self, folder_path, transform=None):\n",
        "        self.folder_path = folder_path\n",
        "        # Sort files numerically based on their names (e.g., 0.jpeg, 1.jpeg, ...)\n",
        "        self.image_files = sorted(\n",
        "            [f for f in os.listdir(folder_path) if f.lower().endswith(('.jpeg', '.jpg', '.png'))],\n",
        "            key=lambda x: int(x.split('.')[0])\n",
        "        )\n",
        "        self.transform = transform\n",
        "\n",
        "    def __len__(self):\n",
        "        return len(self.image_files)\n",
        "\n",
        "    def __getitem__(self, idx):\n",
        "        img_name = self.image_files[idx]\n",
        "        img_path = os.path.join(self.folder_path, img_name)\n",
        "        try:\n",
        "            image = Image.open(img_path).convert('RGB')\n",
        "            if self.transform:\n",
        "                image = self.transform(image)\n",
        "            return image, img_name # Return image tensor and filename\n",
        "        except Exception as e:\n",
        "            print(f\"Error loading/processing image {img_path}: {e}\")\n",
        "            # Return a placeholder or skip; here returning None to be handled later\n",
        "            return None, img_name\n",
        "\n",
        "test_dataset = TestImageDataset(TEST_IMAGE_FOLDER, transform=test_transform)\n",
        "test_loader = DataLoader(test_dataset, batch_size=BATCH_SIZE_PRED, shuffle=False, num_workers=2)"
      ],
      "metadata": {
        "id": "eUCiuNmrTery"
      },
      "execution_count": 10,
      "outputs": []
    },
    {
      "cell_type": "code",
      "source": [
        "# CELL 6: Generate Predictions\n",
        "predictions_list = []\n",
        "\n",
        "if not test_dataset.image_files:\n",
        "    print(f\"No image files found in {TEST_IMAGE_FOLDER}. Please check the path and extraction.\")\n",
        "else:\n",
        "    print(f\"Starting predictions for {len(test_dataset.image_files)} images...\")\n",
        "    with torch.no_grad(): # Disable gradient calculations\n",
        "        for images, filenames in tqdm(test_loader, desc=\"Predicting\"):\n",
        "            if images is None: # Handle potential errors from dataset loading\n",
        "                for fname in filenames: # If images is None, filenames might be a single erroring filename\n",
        "                    predictions_list.append({'id': fname, 'label': 'PreprocessingError'})\n",
        "                continue\n",
        "\n",
        "            images = images.to(device)\n",
        "            outputs = model(images)\n",
        "            probabilities = torch.softmax(outputs, dim=1)\n",
        "            _, predicted_indices = torch.max(probabilities, 1)\n",
        "\n",
        "            predicted_class_names_batch = [CLASS_NAMES[idx.item()] for idx in predicted_indices]\n",
        "\n",
        "            for fname, pred_label in zip(filenames, predicted_class_names_batch):\n",
        "                predictions_list.append({'id': fname, 'label': pred_label})\n",
        "\n",
        "    print(f\"Finished predictions. {len(predictions_list)} predictions made.\")\n",
        "\n",
        "# Create DataFrame and save to CSV\n",
        "if predictions_list:\n",
        "    predictions_df = pd.DataFrame(predictions_list)\n",
        "    # Ensure DataFrame is sorted by ID if DataLoader might have reordered (though shuffle=False)\n",
        "    # Convert 'id' to integer part for robust sorting if filenames are like '0.jpeg', '10.jpeg'\n",
        "    predictions_df['sort_key'] = predictions_df['id'].apply(lambda x: int(x.split('.')[0]))\n",
        "    predictions_df = predictions_df.sort_values(by='sort_key').drop(columns=['sort_key'])\n",
        "\n",
        "    predictions_df.to_csv(CSV_OUTPUT_PATH, index=False)\n",
        "    print(f\"Predictions saved to {CSV_OUTPUT_PATH}\")\n",
        "\n",
        "    # Display first few predictions\n",
        "    print(\"\\nFirst 5 predictions:\")\n",
        "    print(predictions_df.head())\n",
        "else:\n",
        "    print(\"No predictions were made.\")"
      ],
      "metadata": {
        "colab": {
          "base_uri": "https://localhost:8080/"
        },
        "id": "mvWFEj0VTiip",
        "outputId": "f7bdf9f4-9de9-41bc-bb89-6cd6048ad6af"
      },
      "execution_count": 11,
      "outputs": [
        {
          "output_type": "stream",
          "name": "stdout",
          "text": [
            "Starting predictions for 838 images...\n"
          ]
        },
        {
          "output_type": "stream",
          "name": "stderr",
          "text": [
            "Predicting: 100%|██████████| 27/27 [00:03<00:00,  8.78it/s]"
          ]
        },
        {
          "output_type": "stream",
          "name": "stdout",
          "text": [
            "Finished predictions. 838 predictions made.\n",
            "Predictions saved to /content/drive/MyDrive/predictions_deit.csv\n",
            "\n",
            "First 5 predictions:\n",
            "       id    label\n",
            "0  0.jpeg  Healthy\n",
            "1  1.jpeg  Healthy\n",
            "2  2.jpeg  Healthy\n",
            "3  3.jpeg  Healthy\n",
            "4  4.jpeg  Healthy\n"
          ]
        },
        {
          "output_type": "stream",
          "name": "stderr",
          "text": [
            "\n"
          ]
        }
      ]
    }
  ]
}